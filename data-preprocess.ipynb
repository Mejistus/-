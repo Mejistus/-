{
 "cells": [
  {
   "cell_type": "code",
   "execution_count": 1,
   "id": "8de4b990f707af99",
   "metadata": {
    "ExecuteTime": {
     "end_time": "2024-11-13T09:41:59.471069Z",
     "start_time": "2024-11-13T09:41:51.569847Z"
    }
   },
   "outputs": [],
   "source": [
    "import torch\n",
    "import torch.nn as nn\n",
    "import torch.nn.functional as F\n",
    "import torch.optim as optim\n",
    "from torchvision import datasets, transforms\n",
    "from torch.utils.data import DataLoader\n",
    "from matplotlib import pyplot as plt"
   ]
  },
  {
   "cell_type": "code",
   "execution_count": 2,
   "id": "f443707118096549",
   "metadata": {
    "ExecuteTime": {
     "end_time": "2024-11-13T09:42:10.077623Z",
     "start_time": "2024-11-13T09:42:10.071568Z"
    }
   },
   "outputs": [],
   "source": [
    "# 定义CNN模型\n",
    "class MNISTCNN(nn.Module):\n",
    "    def __init__(self):\n",
    "        super(MNISTCNN, self).__init__()\n",
    "        self.conv1 = nn.Conv2d(1, 32, kernel_size=3, padding=1)  # 输入通道1，输出通道32，卷积核3x3 \n",
    "        self.conv2 = nn.Conv2d(32, 64, kernel_size=3, padding=1)  # 输入通道32，输出通道64，卷积核3x3 \n",
    "        self.fc1 = nn.Linear(64 * 14 * 14, 128)  # 全连接层，输入特征数为64*14*14，输出特征数128\n",
    "        self.fc2 = nn.Linear(128, 10)  # 全连接层，输入特征数128，输出特征数10（数字0-9）\n",
    "\n",
    "    def forward(self, x):\n",
    "        x = F.relu(self.conv1(x))  # 激活函数使用ReLU :32*28*28\n",
    "        x = F.relu(self.conv2(x))  # :64*28*28\n",
    "        x = F.max_pool2d(x, 2)  #:64*14*14\n",
    "        x = x.view(-1, 64 * 14 * 14)  # 展平特征图\n",
    "        x = F.relu(self.fc1(x))\n",
    "        x = self.fc2(x)\n",
    "        return F.log_softmax(x, dim=1)  # 使用log_softmax作为输出\n"
   ]
  },
  {
   "cell_type": "code",
   "execution_count": 3,
   "id": "45fb69832197f9bd",
   "metadata": {
    "ExecuteTime": {
     "end_time": "2024-11-13T09:42:11.567327Z",
     "start_time": "2024-11-13T09:42:11.182567Z"
    }
   },
   "outputs": [
    {
     "name": "stdout",
     "output_type": "stream",
     "text": [
      "60000 10000\n",
      "torch.Size([1, 28, 28])\n"
     ]
    },
    {
     "data": {
      "text/plain": [
       "<matplotlib.image.AxesImage at 0x7f5fd0f78920>"
      ]
     },
     "execution_count": 3,
     "metadata": {},
     "output_type": "execute_result"
    },
    {
     "data": {
      "image/png": "[encoded data removed]",
      "text/plain": [
       "<Figure size 640x480 with 1 Axes>"
      ]
     },
     "metadata": {},
     "output_type": "display_data"
    }
   ],
   "source": [
    "# 设置设备\n",
    "device = torch.device(\"cuda\" if torch.cuda.is_available() else \"cpu\")\n",
    "\n",
    "# 加载数据集\n",
    "transform = transforms.Compose([\n",
    "    transforms.ToTensor(),\n",
    "    transforms.Normalize((0.1307,), (0.3081,))\n",
    "])\n",
    "\n",
    "train_dataset = datasets.MNIST(root='./data', train=True, download=True, transform=transform)\n",
    "test_dataset = datasets.MNIST(root='./data', train=False, download=True, transform=transform)\n",
    "\n",
    "train_loader = DataLoader(dataset=train_dataset, batch_size=64, shuffle=True)\n",
    "test_loader = DataLoader(dataset=test_dataset, batch_size=1000, shuffle=False)\n",
    "print(train_dataset.__len__(), test_dataset.__len__())\n",
    "print(train_dataset[0][0].shape)\n",
    "image, label = train_dataset[0]\n",
    "# 显示图像\n",
    "plt.imshow(image.squeeze(), cmap='gray')"
   ]
  },
  {
   "cell_type": "code",
   "execution_count": 4,
   "id": "15e22fa9e5bc97ab",
   "metadata": {
    "ExecuteTime": {
     "end_time": "2024-11-13T09:42:15.011255Z",
     "start_time": "2024-11-13T09:42:14.839375Z"
    }
   },
   "outputs": [],
   "source": [
    "\n",
    "# 初始化模型、损失函数和优化器\n",
    "model = MNISTCNN().to(device)\n",
    "criterion = nn.CrossEntropyLoss()\n",
    "optimizer = optim.Adam(model.parameters(), lr=0.001)\n"
   ]
  },
  {
   "cell_type": "code",
   "execution_count": 5,
   "id": "fd6e14aaedf0683d",
   "metadata": {
    "ExecuteTime": {
     "end_time": "2024-11-13T09:45:01.089120Z",
     "start_time": "2024-11-13T09:45:01.066792Z"
    }
   },
   "outputs": [],
   "source": [
    "# 训练模型\n",
    "def train(model, device, train_loader, optimizer, epoch):\n",
    "    model.train()\n",
    "    for batch_idx, (data, target) in enumerate(train_loader):\n",
    "        data, target = data.to(device), target.to(device)\n",
    "        optimizer.zero_grad()\n",
    "        output = model(data)\n",
    "        loss = criterion(output, target)\n",
    "        loss.backward()\n",
    "        optimizer.step()\n",
    "        if batch_idx % 100 == 0:\n",
    "            print(\n",
    "                f'Train Epoch: {epoch} [{batch_idx * len(data)}/{len(train_loader.dataset)} ({100. * batch_idx / len(train_loader):.0f}%)]\\tLoss: {loss.item():.6f}')\n",
    "\n",
    "\n",
    "# 测试模型\n",
    "def test(model, device, test_loader):\n",
    "    model.eval()\n",
    "    test_loss = 0\n",
    "    correct = 0\n",
    "    with torch.no_grad():\n",
    "        for data, target in test_loader:\n",
    "            data, target = data.to(device), target.to(device)\n",
    "            output = model(data)\n",
    "            test_loss += criterion(output, target).item()\n",
    "            pred = output.argmax(dim=1, keepdim=True)\n",
    "            correct += pred.eq(target.view_as(pred)).sum().item()\n",
    "    test_loss /= len(test_loader.dataset)\n",
    "    print(\n",
    "        f'\\nTest set: Average loss: {test_loss:.4f}, Accuracy: {correct}/{len(test_loader.dataset)} ({100. * correct / len(test_loader.dataset):.0f}%)\\n'\n",
    "    )\n",
    "\n"
   ]
  },
  {
   "cell_type": "code",
   "execution_count": null,
   "id": "e2ee96b7e8f75f4",
   "metadata": {
    "ExecuteTime": {
     "end_time": "2024-11-13T09:46:10.601076Z",
     "start_time": "2024-11-13T09:45:06.393986Z"
    }
   },
   "outputs": [
    {
     "name": "stdout",
     "output_type": "stream",
     "text": [
      "Train Epoch: 1 [0/60000 (0%)]\tLoss: 2.323076\n",
      "Train Epoch: 1 [6400/60000 (11%)]\tLoss: 0.131985\n",
      "Train Epoch: 1 [12800/60000 (21%)]\tLoss: 0.081396\n",
      "Train Epoch: 1 [19200/60000 (32%)]\tLoss: 0.051291\n",
      "Train Epoch: 1 [25600/60000 (43%)]\tLoss: 0.019726\n",
      "Train Epoch: 1 [32000/60000 (53%)]\tLoss: 0.086819\n",
      "Train Epoch: 1 [38400/60000 (64%)]\tLoss: 0.037089\n",
      "Train Epoch: 1 [44800/60000 (75%)]\tLoss: 0.215471\n",
      "Train Epoch: 1 [51200/60000 (85%)]\tLoss: 0.017529\n",
      "Train Epoch: 1 [57600/60000 (96%)]\tLoss: 0.019716\n",
      "\n",
      "Test set: Average loss: 0.0001, Accuracy: 9815/10000 (98%)\n",
      "\n",
      "Train Epoch: 2 [0/60000 (0%)]\tLoss: 0.034291\n",
      "Train Epoch: 2 [6400/60000 (11%)]\tLoss: 0.021964\n",
      "Train Epoch: 2 [12800/60000 (21%)]\tLoss: 0.004529\n",
      "Train Epoch: 2 [19200/60000 (32%)]\tLoss: 0.045080\n",
      "Train Epoch: 2 [25600/60000 (43%)]\tLoss: 0.045272\n",
      "Train Epoch: 2 [32000/60000 (53%)]\tLoss: 0.100954\n",
      "Train Epoch: 2 [38400/60000 (64%)]\tLoss: 0.026836\n",
      "Train Epoch: 2 [44800/60000 (75%)]\tLoss: 0.012034\n",
      "Train Epoch: 2 [51200/60000 (85%)]\tLoss: 0.098846\n",
      "Train Epoch: 2 [57600/60000 (96%)]\tLoss: 0.045661\n",
      "\n",
      "Test set: Average loss: 0.0000, Accuracy: 9885/10000 (99%)\n",
      "\n",
      "Train Epoch: 3 [0/60000 (0%)]\tLoss: 0.002452\n",
      "Train Epoch: 3 [6400/60000 (11%)]\tLoss: 0.004981\n",
      "Train Epoch: 3 [12800/60000 (21%)]\tLoss: 0.000491\n",
      "Train Epoch: 3 [19200/60000 (32%)]\tLoss: 0.001148\n",
      "Train Epoch: 3 [25600/60000 (43%)]\tLoss: 0.014278\n",
      "Train Epoch: 3 [32000/60000 (53%)]\tLoss: 0.020395\n",
      "Train Epoch: 3 [38400/60000 (64%)]\tLoss: 0.002781\n",
      "Train Epoch: 3 [44800/60000 (75%)]\tLoss: 0.016322\n"
     ]
    }
   ],
   "source": [
    "# 运行训练和测试\n",
    "for epoch in range(1, 5):  # 训练10个epoch\n",
    "    train(model, device, train_loader, optimizer, epoch)\n",
    "    test(model, device, test_loader)"
   ]
  },
  {
   "cell_type": "code",
   "execution_count": null,
   "id": "6ac2b7eb2138a3aa",
   "metadata": {},
   "outputs": [],
   "source": []
  }
 ],
 "metadata": {
  "kernelspec": {
   "display_name": "venv",
   "language": "python",
   "name": "python3"
  },
  "language_info": {
   "codemirror_mode": {
    "name": "ipython",
    "version": 3
   },
   "file_extension": ".py",
   "mimetype": "text/x-python",
   "name": "python",
   "nbconvert_exporter": "python",
   "pygments_lexer": "ipython3",
   "version": "3.12.6"
  }
 },
 "nbformat": 4,
 "nbformat_minor": 5
}
